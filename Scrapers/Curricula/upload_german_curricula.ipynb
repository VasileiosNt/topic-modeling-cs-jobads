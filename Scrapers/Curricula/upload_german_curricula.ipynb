{
 "cells": [
  {
   "cell_type": "code",
   "execution_count": 6,
   "metadata": {
    "tags": []
   },
   "outputs": [],
   "source": [
    "import pandas as pd \n",
    "path_en = \"\"\n",
    "path_de = \"\""
   ]
  },
  {
   "cell_type": "code",
   "execution_count": 7,
   "metadata": {},
   "outputs": [],
   "source": [
    "data_en= pd.read_excel(path_en, sheet_name=0)\n",
    "data_de= pd.read_excel(path_de, sheet_name=0)"
   ]
  },
  {
   "cell_type": "code",
   "execution_count": 3,
   "metadata": {},
   "outputs": [
    {
     "name": "stdout",
     "output_type": "stream",
     "text": [
      "Done\n"
     ]
    }
   ],
   "source": [
    "\n",
    "from sqlalchemy import create_engine\n",
    "engine= create_engine(\"\")\n",
    "\n",
    "data_en.to_sql(con=engine,name=\"en_curricula_germany\",if_exists=\"replace\",index=False)\n",
    "data_de.to_sql(con=engine,name=\"de_curricula_germany\",if_exists=\"replace\",index=False)\n",
    "print(\"Done\")\n"
   ]
  },
  {
   "cell_type": "code",
   "execution_count": 33,
   "metadata": {},
   "outputs": [
    {
     "data": {
      "text/plain": [
       "'# Remove characters when repeating more than 3 times\\n\\ndef remove_repeated_characters(str):\\n    str = str.replace(\"^(\\\\S)\\\\1{3,}\", \"\")\\n    return str\\n\\ndata = pd.read_sql_query(\\'select * from \"en_curricula_austria\";\\',engine)\\ndata[\\'Course Description\\']=data[\\'Course Description\\'].apply(remove_repeated_characters)\\ndata_en.to_sql(con=engine,name=\"en_curricula_austria\",if_exists=\"replace\",index=False)\\n\\n#data = pd.read_sql_query(\\'select * from \"de_curricula_austria\";\\',engine)\\n#data[\\'Course Description\\']=data[\\'Course Description\\'].apply(remove_repeated_characters)\\n#data_de.to_sql(con=engine,name=\"de_curricula_austria\",if_exists=\"replace\",index=False)'"
      ]
     },
     "execution_count": 33,
     "metadata": {},
     "output_type": "execute_result"
    }
   ],
   "source": [
    "'''# Remove characters when repeating more than 3 times\n",
    "\n",
    "def remove_repeated_characters(str):\n",
    "    str = str.replace(\"^(\\\\S)\\\\1{3,}\", \"\")\n",
    "    return str\n",
    "\n",
    "data = pd.read_sql_query('select * from \"en_curricula_austria\";',engine)\n",
    "data['Course Description']=data['Course Description'].apply(remove_repeated_characters)\n",
    "data_en.to_sql(con=engine,name=\"en_curricula_austria\",if_exists=\"replace\",index=False)\n",
    "\n",
    "#data = pd.read_sql_query('select * from \"de_curricula_austria\";',engine)\n",
    "#data['Course Description']=data['Course Description'].apply(remove_repeated_characters)\n",
    "#data_de.to_sql(con=engine,name=\"de_curricula_austria\",if_exists=\"replace\",index=False)'''\n"
   ]
  },
  {
   "cell_type": "code",
   "execution_count": 5,
   "metadata": {
    "tags": []
   },
   "outputs": [
    {
     "name": "stdout",
     "output_type": "stream",
     "text": [
      "Number of characters within course names:  1136\n",
      "Number of characters within course descriptions:  27093\n",
      "Number of characters to send to DeepL API for Austrian Curricula:  28229\n"
     ]
    }
   ],
   "source": [
    "#FOR ENGLISH CURRICULA\n",
    "\n",
    "#Course names \n",
    "name_len = data_en['Course Name'].str.len().sum()\n",
    "print(\"Number of characters within course names: \", name_len)\n",
    "\n",
    "#Course descriptions\n",
    "descri_len = data_en['Course Description'].str.len().sum()\n",
    "print(\"Number of characters within course descriptions: \", descri_len)\n",
    "\n",
    "#Total amount of charactersfor Job ads\n",
    "total_characters_curricula = name_len + descri_len\n",
    "print(\"Number of characters to send to DeepL API for Austrian Curricula: \", total_characters_curricula)"
   ]
  },
  {
   "cell_type": "code",
   "execution_count": null,
   "metadata": {},
   "outputs": [],
   "source": []
  }
 ],
 "metadata": {
  "interpreter": {
   "hash": "d168e3e56bcc136dece79f29a6e24fbd9b987150b01b0a546150e01be5b0e43f"
  },
  "kernelspec": {
   "display_name": "MIDSISE",
   "language": "python",
   "name": "python3"
  },
  "language_info": {
   "codemirror_mode": {
    "name": "ipython",
    "version": 3
   },
   "file_extension": ".py",
   "mimetype": "text/x-python",
   "name": "python",
   "nbconvert_exporter": "python",
   "pygments_lexer": "ipython3",
   "version": "3.9.4"
  }
 },
 "nbformat": 4,
 "nbformat_minor": 2
}
