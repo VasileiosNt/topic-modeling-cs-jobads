{
 "cells": [
  {
   "cell_type": "code",
   "execution_count": 1,
   "metadata": {
    "tags": []
   },
   "outputs": [],
   "source": [
    "import pandas as pd \n",
    "\n",
    "path_de = \"\""
   ]
  },
  {
   "cell_type": "code",
   "execution_count": 2,
   "metadata": {},
   "outputs": [],
   "source": [
    "data_en= pd.read_excel(path_en, sheet_name=0)\n",
    "data_de= pd.read_excel(path_de, sheet_name=0)"
   ]
  },
  {
   "cell_type": "code",
   "execution_count": 3,
   "metadata": {},
   "outputs": [],
   "source": [
    "from sqlalchemy import create_engine\n",
    "\n",
    "engine= create_engine(\"\")\n",
    "\n",
    "data_en.to_sql(con=engine,name=\"en_curricula_austria\",if_exists=\"replace\",index=False)\n",
    "data_de.to_sql(con=engine,name=\"de_curricula_austria\",if_exists=\"replace\",index=False)\n"
   ]
  },
  {
   "cell_type": "code",
   "execution_count": 33,
   "metadata": {},
   "outputs": [
    {
     "data": {
      "text/plain": [
       "'# Remove characters when repeating more than 3 times\\n\\ndef remove_repeated_characters(str):\\n    str = str.replace(\"^(\\\\S)\\\\1{3,}\", \"\")\\n    return str\\n\\ndata = pd.read_sql_query(\\'select * from \"en_curricula_austria\";\\',engine)\\ndata[\\'Course Description\\']=data[\\'Course Description\\'].apply(remove_repeated_characters)\\ndata_en.to_sql(con=engine,name=\"en_curricula_austria\",if_exists=\"replace\",index=False)\\n\\n#data = pd.read_sql_query(\\'select * from \"de_curricula_austria\";\\',engine)\\n#data[\\'Course Description\\']=data[\\'Course Description\\'].apply(remove_repeated_characters)\\n#data_de.to_sql(con=engine,name=\"de_curricula_austria\",if_exists=\"replace\",index=False)'"
      ]
     },
     "execution_count": 33,
     "metadata": {},
     "output_type": "execute_result"
    }
   ],
   "source": [
    "# Remove characters when repeating more than 3 times\n",
    "\n",
    "def remove_repeated_characters(str):\n",
    "    str = str.replace(\"^(\\\\S)\\\\1{3,}\", \"\")\n",
    "    return str\n",
    "\n",
    "data = pd.read_sql_query('select * from \"en_curricula_austria\";',engine)\n",
    "data['Course Description']=data['Course Description'].apply(remove_repeated_characters)\n",
    "data_en.to_sql(con=engine,name=\"en_curricula_austria\",if_exists=\"replace\",index=False)\n",
    "\n",
    "data = pd.read_sql_query('select * from \"de_curricula_austria\";',engine)\n",
    "data['Course Description']=data['Course Description'].apply(remove_repeated_characters)\n",
    "data_de.to_sql(con=engine,name=\"de_curricula_austria\",if_exists=\"replace\",index=False)\n"
   ]
  },
  {
   "cell_type": "code",
   "execution_count": 34,
   "metadata": {
    "tags": []
   },
   "outputs": [
    {
     "name": "stdout",
     "output_type": "stream",
     "text": [
      "Number of characters within course names:  5160\n",
      "Number of characters within course descriptions:  135285.0\n",
      "Number of characters to send to DeepL API for Austrian Curricula:  140445.0\n"
     ]
    }
   ],
   "source": [
    "#FOR ENGLISH CURRICULA\n",
    "\n",
    "#Course names \n",
    "name_len = data_en['Course Name'].str.len().sum()\n",
    "print(\"Number of characters within course names: \", name_len)\n",
    "\n",
    "#Course descriptions\n",
    "descri_len = data_en['Course Description'].str.len().sum()\n",
    "print(\"Number of characters within course descriptions: \", descri_len)\n",
    "\n",
    "#Total amount of charactersfor Job ads\n",
    "total_characters_curricula = name_len + descri_len\n",
    "print(\"Number of characters to send to DeepL API for Austrian Curricula: \", total_characters_curricula)"
   ]
  }
 ],
 "metadata": {
  "kernelspec": {
   "display_name": "MIDSISE",
   "language": "python",
   "name": "midsise"
  },
  "language_info": {
   "codemirror_mode": {
    "name": "ipython",
    "version": 3
   },
   "file_extension": ".py",
   "mimetype": "text/x-python",
   "name": "python",
   "nbconvert_exporter": "python",
   "pygments_lexer": "ipython3",
   "version": "3.5.2"
  }
 },
 "nbformat": 4,
 "nbformat_minor": 2
}
